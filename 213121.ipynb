{
 "metadata": {
  "language_info": {
   "codemirror_mode": {
    "name": "ipython",
    "version": 3
   },
   "file_extension": ".py",
   "mimetype": "text/x-python",
   "name": "python",
   "nbconvert_exporter": "python",
   "pygments_lexer": "ipython3",
   "version": "3.8.3-final"
  },
  "orig_nbformat": 2,
  "kernelspec": {
   "name": "python_defaultSpec_1598809409607",
   "display_name": "Python 3.8.3 64-bit ('base': conda)"
  }
 },
 "nbformat": 4,
 "nbformat_minor": 2,
 "cells": [
  {
   "cell_type": "code",
   "execution_count": 23,
   "metadata": {
    "tags": []
   },
   "outputs": [
    {
     "output_type": "stream",
     "name": "stdout",
     "text": "Searhing for: python  \n"
    }
   ],
   "source": [
    "import requests\n",
    "import sys\n",
    "from datetime import datetime  \n",
    "from datetime import timedelta \n",
    "import re\n",
    "import numpy\n",
    "import time\n",
    "import csv\n",
    "import pandas\n",
    "from pandas import DataFrame\n",
    "# import urllib2\n",
    "from bs4 import BeautifulSoup\n",
    "\n",
    "argv = \"python\"\n",
    "print(\"Searhing for: {}  \".format(argv))\n",
    "\n",
    "sess = requests.Session()\n",
    "count_book = 0\n",
    "list_link_book = []\n",
    "payload = {'page': 2}\n"
   ]
  },
  {
   "cell_type": "code",
   "execution_count": null,
   "metadata": {
    "tags": []
   },
   "outputs": [],
   "source": [
    "f = open(\"debug.txt\", \"w\")\n",
    "response = sess.get('https://1lib.limited/s/{}'.format(argv) ,params=payload)\n",
    "links = re.findall('<a href=\"(.*?)\">(.*?)</a>', str(response.content))\n",
    "for books in links :\n",
    "    str_book = str(books)\n",
    "    book_pos_start =  str_book.find(\"/book/\")\n",
    "    if  book_pos_start >0 :\n",
    "        if str_book.find(\"https://\") > 0:\n",
    "            continue\n",
    "        if  str_book.find(\"book-no-cover\") > 0 :\n",
    "            continue\n",
    "        book_pos_end = str_book.find(\" \", book_pos_start)\n",
    "        list_link_book.append(\"https://1lib.limited\" + str_book[book_pos_start:book_pos_end-1] +\" \")\n",
    "        f.write(\"{} ; {} ; {} \\n\".format(count_book, list_link_book[count_book] , divided_by_quote_mask[3] ))\n",
    "        divided_by_quote_mask = str_book.split(\"'\")\n",
    "        print(list_link_book[count_book])\n",
    "        count_book += 1\n",
    "f.write(\"  End page \\n\")"
   ]
  },
  {
   "cell_type": "code",
   "execution_count": 33,
   "metadata": {
    "tags": []
   },
   "outputs": [
    {
     "output_type": "stream",
     "name": "stdout",
     "text": "<div class=\"bookProperty property_isbn 13\">\n<div class=\"property_label\">ISBN 13:</div>\n<div class=\"property_value\">9781788294195</div>\n</div>\n<class 'bs4.element.Tag'>\n"
    }
   ],
   "source": [
    "# f = open(\"debug.html\", \"w\")\n",
    "response = sess.get('https://1lib.limited/book/3413340/2eb247')\n",
    "# f.write(str(response.content))\n",
    "soup = BeautifulSoup(response.content, 'html.parser')\n",
    "isbn_box = soup.find(\"div\", attrs={\"class\":\"bookProperty property_isbn 13\"})\n",
    "isbn = isbn_box.text\n",
    "print (isbn)\n",
    "print (type(isbn_box))\n"
   ]
  },
  {
   "cell_type": "code",
   "execution_count": null,
   "metadata": {},
   "outputs": [],
   "source": []
  }
 ]
}